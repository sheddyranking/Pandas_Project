{
 "cells": [
  {
   "cell_type": "markdown",
   "id": "439cb27b",
   "metadata": {},
   "source": [
    "# load Librabry "
   ]
  },
  {
   "cell_type": "code",
   "execution_count": 13,
   "id": "a004c605",
   "metadata": {},
   "outputs": [],
   "source": [
    "import pandas as pd\n",
    "import  os "
   ]
  },
  {
   "cell_type": "markdown",
   "id": "da85088b",
   "metadata": {},
   "source": [
    "# Task1: Merg 12 months of data into a single file"
   ]
  },
  {
   "cell_type": "code",
   "execution_count": 33,
   "id": "06028643",
   "metadata": {},
   "outputs": [],
   "source": [
    "## List all the files in one directory\n",
    "files = [file for file in os.listdir('./Sales_Data/')]\n",
    "\n",
    "#create a Df to hold the file to be concanted\n",
    "all_months_data = pd.DataFrame()\n",
    "\n",
    "#load list and concatinate\n",
    "for file in files:\n",
    "    df = pd.read_csv('./Sales_Data/' + file) # priint(file) return list\n",
    "    all_months_data = pd.concat([all_months_data,df]) # concat the two df\n",
    "    \n",
    "\n",
    "#save the concatinated files\n",
    "all_months_data.to_csv('all_months_data.csv', index=False)\n",
    "\n",
    "\n",
    "    \n",
    "    "
   ]
  },
  {
   "cell_type": "code",
   "execution_count": null,
   "id": "176d6349",
   "metadata": {},
   "outputs": [],
   "source": []
  },
  {
   "cell_type": "code",
   "execution_count": null,
   "id": "9c6c09e2",
   "metadata": {},
   "outputs": [],
   "source": []
  },
  {
   "cell_type": "code",
   "execution_count": null,
   "id": "d059b251",
   "metadata": {},
   "outputs": [],
   "source": []
  },
  {
   "cell_type": "code",
   "execution_count": null,
   "id": "82417f32",
   "metadata": {},
   "outputs": [],
   "source": []
  }
 ],
 "metadata": {
  "kernelspec": {
   "display_name": "Python 3 (ipykernel)",
   "language": "python",
   "name": "python3"
  },
  "language_info": {
   "codemirror_mode": {
    "name": "ipython",
    "version": 3
   },
   "file_extension": ".py",
   "mimetype": "text/x-python",
   "name": "python",
   "nbconvert_exporter": "python",
   "pygments_lexer": "ipython3",
   "version": "3.9.7"
  },
  "toc": {
   "base_numbering": 1,
   "nav_menu": {},
   "number_sections": true,
   "sideBar": true,
   "skip_h1_title": false,
   "title_cell": "Table of Contents",
   "title_sidebar": "Contents",
   "toc_cell": false,
   "toc_position": {},
   "toc_section_display": true,
   "toc_window_display": false
  },
  "varInspector": {
   "cols": {
    "lenName": 16,
    "lenType": 16,
    "lenVar": 40
   },
   "kernels_config": {
    "python": {
     "delete_cmd_postfix": "",
     "delete_cmd_prefix": "del ",
     "library": "var_list.py",
     "varRefreshCmd": "print(var_dic_list())"
    },
    "r": {
     "delete_cmd_postfix": ") ",
     "delete_cmd_prefix": "rm(",
     "library": "var_list.r",
     "varRefreshCmd": "cat(var_dic_list()) "
    }
   },
   "types_to_exclude": [
    "module",
    "function",
    "builtin_function_or_method",
    "instance",
    "_Feature"
   ],
   "window_display": false
  }
 },
 "nbformat": 4,
 "nbformat_minor": 5
}
